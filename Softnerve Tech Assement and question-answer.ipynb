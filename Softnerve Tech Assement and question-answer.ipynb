{
 "cells": [
  {
   "cell_type": "markdown",
   "id": "1740c9c1",
   "metadata": {},
   "source": [
    "## 1.Rating in scale of DSA(Please mention DSA topic or algorithm you are extremely good at)\n",
    "### Ans- I will rate myself 5 out of 10 in DSA , I am familiar with binary search tree, AVL tree, tree traversal, sorting, heap functions etc."
   ]
  },
  {
   "cell_type": "markdown",
   "id": "9f2e8dfb",
   "metadata": {},
   "source": [
    "# ----------------------------------------------------------------------------------------------------"
   ]
  },
  {
   "cell_type": "markdown",
   "id": "772099d3",
   "metadata": {},
   "source": [
    "## 2.\tLeetcode / hacker rank. code chef ranking\n",
    "### Ans-  my recent ranking in hacker rank is 156164 with 455 points and i have 5 stars in python."
   ]
  },
  {
   "cell_type": "markdown",
   "id": "b356b4b6",
   "metadata": {},
   "source": [
    "# ----------------------------------------------------------------------------------------------------"
   ]
  },
  {
   "cell_type": "markdown",
   "id": "240ddbf9",
   "metadata": {},
   "source": [
    "## 3. Deep learning rating – (Mentioned if worked in GAN Related project)\n",
    "### Ans- I will rate myself 8 out of 10 in deep learning, I implemented verious deep leraning projects using CNN, VGG-16. I also worked as a Deep Learning Engineer Intern in Resoluteai where I \n",
    "### • Worked with deep learning team on multiple object detection and countingprojects by annotating images, train models (YOLO) and inferencing.\n",
    "### • Collaborated on an NLP text extraction model (Tesserract, OCR).\n",
    "### • Provided multiple approaches in various computer vision projects.\n",
    "### • Developed an image processing application using Python Flask and Streamlit.\n",
    "### • Conducted research on emerging technologies such as Segment anything model by META, LayoutLM, and saliency maps."
   ]
  },
  {
   "cell_type": "markdown",
   "id": "4febb7e5",
   "metadata": {},
   "source": [
    "# ---------------------------Softnerve Tech Assement-----------------------------"
   ]
  },
  {
   "cell_type": "markdown",
   "id": "7f9d59b3",
   "metadata": {},
   "source": [
    "## Question 1 : Leader in the Array\n",
    "#### Given a unsorted array, kindly find the leader in array . An element is called the leader of an array if there is no element greater than it on the right side."
   ]
  },
  {
   "cell_type": "code",
   "execution_count": 1,
   "id": "081e16b5",
   "metadata": {},
   "outputs": [],
   "source": [
    "def find_leaders(arr):\n",
    "    n = len(arr)\n",
    "    leaders = []\n",
    "    max_right = arr[n - 1]\n",
    "    leaders.append(max_right)\n",
    "\n",
    "    for i in range(n - 2, -1, -1):\n",
    "        if arr[i] > max_right:\n",
    "            leaders.append(arr[i])\n",
    "            max_right = arr[i]\n",
    "\n",
    "    leaders.reverse()\n",
    "    return leaders"
   ]
  },
  {
   "cell_type": "code",
   "execution_count": 2,
   "id": "420c7014",
   "metadata": {},
   "outputs": [
    {
     "name": "stdout",
     "output_type": "stream",
     "text": [
      "[10, 6, 5, 2]\n"
     ]
    }
   ],
   "source": [
    "array = [7, 10, 4, 10, 6, 5, 2]\n",
    "result = find_leaders(array)\n",
    "print( result)"
   ]
  },
  {
   "cell_type": "markdown",
   "id": "fae3a72c",
   "metadata": {},
   "source": [
    "## Question 2 :Best Time to Buy and Sell Stock\n",
    "#### You are given an array prices where prices[i] is the price of a given stock on the ith day. You want to maximize your profit by choosing a single day to buy one stock and choosing a different day in the future to sell that stock. Return the maximum profit you can achieve from this transaction. If you cannot achieve any profit, return 0"
   ]
  },
  {
   "cell_type": "code",
   "execution_count": 3,
   "id": "67e5704b",
   "metadata": {},
   "outputs": [],
   "source": [
    "def max_profit(list):\n",
    "    prices = list\n",
    "    list1= []\n",
    "    if len(list)<2:\n",
    "        return 0\n",
    "    for i in range(len(prices)):\n",
    "        for j in range(i+1,len(prices)):\n",
    "            profit = prices[j]-prices[i]\n",
    "            list1.append(profit)\n",
    "    if max(list1)>0:\n",
    "        return max(list1)\n",
    "    else:\n",
    "        return 0\n"
   ]
  },
  {
   "cell_type": "code",
   "execution_count": 4,
   "id": "3bd992fe",
   "metadata": {},
   "outputs": [
    {
     "data": {
      "text/plain": [
       "5"
      ]
     },
     "execution_count": 4,
     "metadata": {},
     "output_type": "execute_result"
    }
   ],
   "source": [
    "max_profit([7,1,5,3,6,4])"
   ]
  },
  {
   "cell_type": "code",
   "execution_count": 5,
   "id": "e9680a73",
   "metadata": {},
   "outputs": [
    {
     "data": {
      "text/plain": [
       "0"
      ]
     },
     "execution_count": 5,
     "metadata": {},
     "output_type": "execute_result"
    }
   ],
   "source": [
    "max_profit([7,6,4,3,1])"
   ]
  },
  {
   "cell_type": "markdown",
   "id": "ec8257ad",
   "metadata": {},
   "source": [
    "## Question 3:Sum of All Subset XOR Totals\n",
    "#### The XOR total of an array is defined as the bitwise XOR of all its elements, or 0 if the array is empty. For example, the XOR total of the array [2,5,6] is 2 XOR 5 XOR 6 = 1. Given an array nums, return the sum of all XOR totals for every subset of nums. Note: Subsets with the same elements should be counted multiple times. An array a is a subset of an array b if a can be obtained from b by deleting some (possibly zero) elements of b.\n"
   ]
  },
  {
   "cell_type": "code",
   "execution_count": 6,
   "id": "117e0162",
   "metadata": {},
   "outputs": [],
   "source": [
    "def powerset(s):\n",
    "    all_list = []\n",
    "    x = len(s)\n",
    "    for i in range(1 << x):\n",
    "        all_list.append([s[j] for j in range(x) if (i & (1 << j))])\n",
    "    return all_list"
   ]
  },
  {
   "cell_type": "code",
   "execution_count": 7,
   "id": "b8bc2e65",
   "metadata": {},
   "outputs": [],
   "source": [
    "def xor_of_list(numbers):\n",
    "    result = 0\n",
    "    for num in numbers:\n",
    "        result ^= num\n",
    "    return result"
   ]
  },
  {
   "cell_type": "code",
   "execution_count": 8,
   "id": "079f0aef",
   "metadata": {},
   "outputs": [],
   "source": [
    "def total_xor(list1):\n",
    "    alllist = powerset(list1) \n",
    "    total_xor = 0\n",
    "    for list in alllist:\n",
    "        total_xor += xor_of_list(list)\n",
    "    return total_xor"
   ]
  },
  {
   "cell_type": "code",
   "execution_count": 9,
   "id": "4e4d790f",
   "metadata": {},
   "outputs": [
    {
     "data": {
      "text/plain": [
       "28"
      ]
     },
     "execution_count": 9,
     "metadata": {},
     "output_type": "execute_result"
    }
   ],
   "source": [
    "total_xor([5,1,6]) "
   ]
  },
  {
   "cell_type": "code",
   "execution_count": 10,
   "id": "36fb4ee4",
   "metadata": {},
   "outputs": [
    {
     "data": {
      "text/plain": [
       "6"
      ]
     },
     "execution_count": 10,
     "metadata": {},
     "output_type": "execute_result"
    }
   ],
   "source": [
    "total_xor([1,3])"
   ]
  },
  {
   "cell_type": "code",
   "execution_count": null,
   "id": "27d435b5",
   "metadata": {},
   "outputs": [],
   "source": []
  }
 ],
 "metadata": {
  "kernelspec": {
   "display_name": "Python 3 (ipykernel)",
   "language": "python",
   "name": "python3"
  },
  "language_info": {
   "codemirror_mode": {
    "name": "ipython",
    "version": 3
   },
   "file_extension": ".py",
   "mimetype": "text/x-python",
   "name": "python",
   "nbconvert_exporter": "python",
   "pygments_lexer": "ipython3",
   "version": "3.10.9"
  }
 },
 "nbformat": 4,
 "nbformat_minor": 5
}
